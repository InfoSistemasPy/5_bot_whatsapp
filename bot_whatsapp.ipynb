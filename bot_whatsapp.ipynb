{
 "cells": [
  {
   "cell_type": "code",
   "execution_count": 1,
   "id": "8b89f77a",
   "metadata": {},
   "outputs": [
    {
     "name": "stdout",
     "output_type": "stream",
     "text": [
      "C:/Users/thiago/Desktop/bot_whatsapp/conteudo\n"
     ]
    },
    {
     "name": "stderr",
     "output_type": "stream",
     "text": [
      "C:\\Users\\thiago\\AppData\\Local\\Temp\\ipykernel_20124\\2353164699.py:67: DeprecationWarning: find_elements_by_id is deprecated. Please use find_elements(by=By.ID, value=id_) instead\n",
      "  while len(nave.find_elements_by_id(\"side\")) < 1:\n"
     ]
    },
    {
     "data": {
      "text/html": [
       "<div>\n",
       "<style scoped>\n",
       "    .dataframe tbody tr th:only-of-type {\n",
       "        vertical-align: middle;\n",
       "    }\n",
       "\n",
       "    .dataframe tbody tr th {\n",
       "        vertical-align: top;\n",
       "    }\n",
       "\n",
       "    .dataframe thead th {\n",
       "        text-align: right;\n",
       "    }\n",
       "</style>\n",
       "<table border=\"1\" class=\"dataframe\">\n",
       "  <thead>\n",
       "    <tr style=\"text-align: right;\">\n",
       "      <th></th>\n",
       "      <th>Pessoa</th>\n",
       "      <th>Número</th>\n",
       "      <th>Mensagem</th>\n",
       "    </tr>\n",
       "  </thead>\n",
       "  <tbody>\n",
       "    <tr>\n",
       "      <th>0</th>\n",
       "      <td>Thiago</td>\n",
       "      <td>5518991689615</td>\n",
       "      <td>Tudo Bem 😁, Já conhece nos Produtos da ..::TM ...</td>\n",
       "    </tr>\n",
       "    <tr>\n",
       "      <th>1</th>\n",
       "      <td>Monise</td>\n",
       "      <td>5518998177363</td>\n",
       "      <td>Tudo Bem 😁, Já conhece nos Produtos da ..::TM ...</td>\n",
       "    </tr>\n",
       "  </tbody>\n",
       "</table>\n",
       "</div>"
      ],
      "text/plain": [
       "   Pessoa         Número                                           Mensagem\n",
       "0  Thiago  5518991689615  Tudo Bem 😁, Já conhece nos Produtos da ..::TM ...\n",
       "1  Monise  5518998177363  Tudo Bem 😁, Já conhece nos Produtos da ..::TM ..."
      ]
     },
     "metadata": {},
     "output_type": "display_data"
    },
    {
     "name": "stderr",
     "output_type": "stream",
     "text": [
      "C:\\Users\\thiago\\AppData\\Local\\Temp\\ipykernel_20124\\2353164699.py:41: DeprecationWarning: find_elements_by_id is deprecated. Please use find_elements(by=By.ID, value=id_) instead\n",
      "  while len(nave.find_elements_by_id(\"side\")) < 1:\n",
      "C:\\Users\\thiago\\AppData\\Local\\Temp\\ipykernel_20124\\2353164699.py:43: DeprecationWarning: find_element_by_xpath is deprecated. Please use find_element(by=By.XPATH, value=xpath) instead\n",
      "  nave.find_element_by_xpath('/html/body/div[1]/div/div/div[4]/div/footer/div[1]/div/span[2]/div/div[2]/div[2]/button/span').click()\n",
      "C:\\Users\\thiago\\AppData\\Local\\Temp\\ipykernel_20124\\2353164699.py:45: DeprecationWarning: find_element_by_xpath is deprecated. Please use find_element(by=By.XPATH, value=xpath) instead\n",
      "  nave.find_element_by_xpath('/html/body/div[1]/div/div/div[4]/div/footer/div[1]/div/span[2]/div/div[1]/div[2]/div/div/span').click()\n",
      "C:\\Users\\thiago\\AppData\\Local\\Temp\\ipykernel_20124\\2353164699.py:47: DeprecationWarning: find_element_by_xpath is deprecated. Please use find_element(by=By.XPATH, value=xpath) instead\n",
      "  nave.find_element_by_xpath('/html/body/div[1]/div/div/div[4]/div/footer/div[1]/div/span[2]/div/div[1]/div[2]/div/span/div/div/ul/li[1]/button/span').click()\n",
      "C:\\Users\\thiago\\AppData\\Local\\Temp\\ipykernel_20124\\2353164699.py:31: DeprecationWarning: find_element_by_xpath is deprecated. Please use find_element(by=By.XPATH, value=xpath) instead\n",
      "  button = nave.find_element_by_xpath('/html/body/div[1]/div/div/div[2]/div[2]/span/div/span/div/div/div[2]/div/div[2]/div[2]/div/div/span')\n"
     ]
    }
   ],
   "source": [
    "#===================Bibliotecas==================\n",
    "\n",
    "import numpy as np\n",
    "import pandas as pd\n",
    "from selenium import webdriver\n",
    "from selenium.webdriver.common.keys import Keys\n",
    "from selenium.webdriver.common.by import By\n",
    "import pyautogui\n",
    "import time\n",
    "import random\n",
    "import urllib\n",
    "import os\n",
    "\n",
    "\n",
    "def Caminho_App():\n",
    "    texto = os.getcwd()\n",
    "    texto = texto.replace('\\\\', '/') \n",
    "    caminho_completo = texto + \"/img\"\n",
    "    print(caminho_completo)\n",
    "    time.sleep(2)\n",
    "    \n",
    "def Entrar_Selecionar_Ok():\n",
    "    pyautogui.click(x=1452, y=59)\n",
    "    time.sleep(3)\n",
    "    pyautogui.write(caminho_completo)\n",
    "    time.sleep(3)\n",
    "    pyautogui.press('enter')\n",
    "    time.sleep(3)\n",
    "    pyautogui.doubleClick(x=290, y=219)\n",
    "    time.sleep(3)\n",
    "    button = nave.find_element_by_xpath('/html/body/div[1]/div/div/div[2]/div[2]/span/div/span/div/div/div[2]/div/div[2]/div[2]/div/div/span')\n",
    "    button.click()\n",
    "    \n",
    "def Enviar_Mensagens():\n",
    "    for i, mensagem in enumerate(agenda['Mensagem']):\n",
    "        pessoa = agenda.loc[i,\"Pessoa\"]\n",
    "        numero = agenda.loc[i, \"Número\"]\n",
    "        texto = urllib.parse.quote(f\"Olá {pessoa}! {mensagem}\")\n",
    "        link = f\"https://web.whatsapp.com/send?phone={numero}&text={texto}\"\n",
    "        nave.get(link)\n",
    "        while len(nave.find_elements_by_id(\"side\")) < 1:\n",
    "            time.sleep(5)\n",
    "        nave.find_element_by_xpath('/html/body/div[1]/div/div/div[4]/div/footer/div[1]/div/span[2]/div/div[2]/div[2]/button/span').click()\n",
    "        time.sleep(5)\n",
    "        nave.find_element_by_xpath('/html/body/div[1]/div/div/div[4]/div/footer/div[1]/div/span[2]/div/div[1]/div[2]/div/div/span').click()\n",
    "        time.sleep(5)\n",
    "        nave.find_element_by_xpath('/html/body/div[1]/div/div/div[4]/div/footer/div[1]/div/span[2]/div/div[1]/div[2]/div/span/div/div/ul/li[1]/button/span').click()\n",
    "        time.sleep(5)\n",
    "        Entrar_Selecionar_Ok()   \n",
    "        time.sleep(30)\n",
    "\n",
    "texto = os.getcwd()\n",
    "texto = texto.replace('\\\\', '/') \n",
    "caminho_completo = texto + \"/conteudo\"\n",
    "print(caminho_completo)\n",
    "time.sleep(2)\n",
    "    \n",
    "#==================Chamar Funções==================\n",
    "\n",
    "\n",
    "#===============WebDriver_Selenium================\n",
    "nave = webdriver.Edge()\n",
    "\n",
    "nave.get('https://web.whatsapp.com/')\n",
    "time.sleep(30)\n",
    "\n",
    "while len(nave.find_elements_by_id(\"side\")) < 1:\n",
    "    time.sleep(1)\n",
    "        \n",
    "        \n",
    "        \n",
    "\n",
    "#============Importando Agenda.xls===========\n",
    "\n",
    "agenda = pd.read_excel(\"Agenda.xlsx\")\n",
    "display(agenda)\n",
    "\n",
    "\n",
    "#==================Funções===================\n",
    "\n",
    "Enviar_Mensagens()\n",
    "    \n",
    "#========================Loops==========================\n",
    "\n"
   ]
  },
  {
   "cell_type": "code",
   "execution_count": null,
   "id": "83061554",
   "metadata": {},
   "outputs": [],
   "source": [
    "/html/body/div[1]/div/div/div[4]/div/footer/div[1]/div/span[2]/div/div[1]/div[2]/div/div/span\n",
    "\n",
    "fotos    /html/body/div[1]/div/div/div[4]/div/footer/div[1]/div/span[2]/div/div[1]/div[2]/div/span/div/div/ul/li[1]/button/span\n",
    "\n",
    "documentos   /html/body/div[1]/div/div/div[4]/div/footer/div[1]/div/span[2]/div/div[1]/div[2]/div/span/div/div/ul/li[4]/button/span\n"
   ]
  },
  {
   "cell_type": "code",
   "execution_count": 3,
   "id": "2780f02a",
   "metadata": {},
   "outputs": [
    {
     "data": {
      "text/plain": [
       "Point(x=290, y=219)"
      ]
     },
     "execution_count": 3,
     "metadata": {},
     "output_type": "execute_result"
    }
   ],
   "source": [
    "import time\n",
    "import pyautogui\n",
    "time.sleep(4)\n",
    "pyautogui.position()\n",
    "#pyautogui.size()"
   ]
  },
  {
   "cell_type": "code",
   "execution_count": null,
   "id": "67ca784d",
   "metadata": {},
   "outputs": [],
   "source": []
  }
 ],
 "metadata": {
  "kernelspec": {
   "display_name": "Python 3 (ipykernel)",
   "language": "python",
   "name": "python3"
  },
  "language_info": {
   "codemirror_mode": {
    "name": "ipython",
    "version": 3
   },
   "file_extension": ".py",
   "mimetype": "text/x-python",
   "name": "python",
   "nbconvert_exporter": "python",
   "pygments_lexer": "ipython3",
   "version": "3.8.13"
  }
 },
 "nbformat": 4,
 "nbformat_minor": 5
}
